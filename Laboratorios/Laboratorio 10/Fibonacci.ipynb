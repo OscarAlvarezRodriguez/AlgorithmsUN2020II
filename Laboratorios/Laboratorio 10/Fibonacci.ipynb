{
  "nbformat": 4,
  "nbformat_minor": 0,
  "metadata": {
    "colab": {
      "name": "Fibonacci.ipynb",
      "provenance": []
    },
    "kernelspec": {
      "name": "python3",
      "display_name": "Python 3"
    }
  },
  "cells": [
    {
      "cell_type": "code",
      "metadata": {
        "colab": {
          "base_uri": "https://localhost:8080/"
        },
        "id": "_EG1xjddPjLJ",
        "outputId": "954546e8-c388-4902-8acf-a411ef0e81b1"
      },
      "source": [
        "import time\n",
        "\n",
        "start = time.time()\n",
        "print(\"hello\")\n",
        "end = time.time()\n",
        "print(end - start)\n"
      ],
      "execution_count": 1,
      "outputs": [
        {
          "output_type": "stream",
          "text": [
            "hello\n",
            "0.005392551422119141\n"
          ],
          "name": "stdout"
        }
      ]
    },
    {
      "cell_type": "code",
      "metadata": {
        "id": "_DL166LeQKyp"
      },
      "source": [
        "def fibR(n):\n",
        "    if n==0 :\n",
        "        return 0\n",
        "    if n==1 :\n",
        "        return 1\n",
        "    return fibR(n-1)+fibR(n-2)"
      ],
      "execution_count": 2,
      "outputs": []
    },
    {
      "cell_type": "code",
      "metadata": {
        "id": "026TLE8oRp9Y"
      },
      "source": [
        "def fib(n):\n",
        "    if n==0 :\n",
        "        return 0\n",
        "    a, b = 0, 1\n",
        "    for i in range(1, n):\n",
        "        a, b = b, a+b\n",
        "    return b"
      ],
      "execution_count": 3,
      "outputs": []
    },
    {
      "cell_type": "code",
      "metadata": {
        "id": "1iqFP22fRw_W"
      },
      "source": [
        "import time\n",
        "def timeFibR(n):\n",
        "  t0 = time.clock()\n",
        "  k = fibR(n)\n",
        "  tf =time.clock()\n",
        "  print(\"n=\",n,\"fibR(\",n,\")=\",k,\"time\",tf - t0, \"seconds process time\")\n",
        "  return tf - t0;"
      ],
      "execution_count": 4,
      "outputs": []
    },
    {
      "cell_type": "code",
      "metadata": {
        "id": "8VL6ofuFSBKV"
      },
      "source": [
        "import time\n",
        "def timeFib(n):\n",
        "  t0 = time.clock()\n",
        "  k = fib(n)\n",
        "  tf =time.clock()\n",
        "  print(\"n=\",n,\"fib(\",n,\")=\",k,\"time\",tf - t0, \"seconds process time\")\n",
        "  return tf - t0;"
      ],
      "execution_count": 17,
      "outputs": []
    },
    {
      "cell_type": "code",
      "metadata": {
        "colab": {
          "base_uri": "https://localhost:8080/",
          "height": 1000
        },
        "id": "7XmzLw0aTPsz",
        "outputId": "82627598-1b2a-479e-f0ef-41647acbbab2"
      },
      "source": [
        "import matplotlib.pyplot as plt\n",
        "import numpy as np\n",
        "\n",
        "FibonacciRecursivo = [];\n",
        "FibonacciIterativo = [];\n",
        "\n",
        "for i in range(0,51):\n",
        "  FibonacciRecursivo.append(timeFibR(i));\n",
        "  FibonacciIterativo.append(timeFib(i));\n",
        "  print(\"\");\n",
        "\n",
        "# print(FibonacciRecursivo)\n",
        "# print(FibonacciIterativo)\n",
        "plt.plot(FibonacciRecursivo)\n",
        "plt.plot(FibonacciIterativo)\n",
        "plt.ylabel('some numbers')\n",
        "plt.show()"
      ],
      "execution_count": 20,
      "outputs": [
        {
          "output_type": "stream",
          "text": [
            "n= 0 fibR( 0 )= 0 time 5.999999984851456e-06 seconds process time\n",
            "n= 0 fib( 0 )= 0 time 2.999999992425728e-06 seconds process time\n",
            "\n",
            "n= 1 fibR( 1 )= 1 time 9.000000034120603e-06 seconds process time\n",
            "n= 1 fib( 1 )= 1 time 1.0000000031595846e-05 seconds process time\n",
            "\n",
            "n= 2 fibR( 2 )= 1 time 8.999999977277184e-06 seconds process time\n",
            "n= 2 fib( 2 )= 1 time 1.099999997222767e-05 seconds process time\n",
            "\n",
            "n= 3 fibR( 3 )= 2 time 2.999999992425728e-06 seconds process time\n",
            "n= 3 fib( 3 )= 2 time 1.9999999949504854e-06 seconds process time\n",
            "\n",
            "n= 4 fibR( 4 )= 3 time 1.1000000029071089e-05 seconds process time\n",
            "n= 4 fib( 4 )= 3 time 4.9999999873762135e-06 seconds process time\n",
            "\n",
            "n= 5 fibR( 5 )= 5 time 4.9999999873762135e-06 seconds process time\n",
            "n= 5 fib( 5 )= 5 time 3.999999989900971e-06 seconds process time\n",
            "\n",
            "n= 6 fibR( 6 )= 8 time 8.999999977277184e-06 seconds process time\n",
            "n= 6 fib( 6 )= 8 time 1.900000000887303e-05 seconds process time\n",
            "\n",
            "n= 7 fibR( 7 )= 13 time 1.0000000031595846e-05 seconds process time\n",
            "n= 7 fib( 7 )= 13 time 5.000000044219632e-06 seconds process time\n",
            "\n",
            "n= 8 fibR( 8 )= 21 time 1.6000000016447302e-05 seconds process time\n",
            "n= 8 fib( 8 )= 21 time 4.9999999873762135e-06 seconds process time\n",
            "\n",
            "n= 9 fibR( 9 )= 34 time 2.6000000048043148e-05 seconds process time\n",
            "n= 9 fib( 9 )= 34 time 3.999999989900971e-06 seconds process time\n",
            "\n",
            "n= 10 fibR( 10 )= 55 time 3.69999999634274e-05 seconds process time\n",
            "n= 10 fib( 10 )= 55 time 5.000000044219632e-06 seconds process time\n",
            "\n",
            "n= 11 fibR( 11 )= 89 time 5.600000002914385e-05 seconds process time\n",
            "n= 11 fib( 11 )= 89 time 5.999999984851456e-06 seconds process time\n",
            "\n",
            "n= 12 fibR( 12 )= 144 time 9.900000003426612e-05 seconds process time\n",
            "n= 12 fib( 12 )= 144 time 4.9999999873762135e-06 seconds process time\n",
            "\n",
            "n= 13 fibR( 13 )= 233 time 0.00014099999998506973 seconds process time\n",
            "n= 13 fib( 13 )= 233 time 5.999999984851456e-06 seconds process time\n",
            "\n",
            "n= 14 fibR( 14 )= 377 time 0.0002779999999802385 seconds process time\n",
            "n= 14 fib( 14 )= 377 time 5.999999984851456e-06 seconds process time\n",
            "\n",
            "n= 15 fibR( 15 )= 610 time 0.00040100000001075387 seconds process time\n",
            "n= 15 fib( 15 )= 610 time 5.000000044219632e-06 seconds process time\n",
            "\n",
            "n= 16 fibR( 16 )= 987 time 0.0006850000000326872 seconds process time\n",
            "n= 16 fib( 16 )= 987 time 7.000000039170118e-06 seconds process time\n",
            "\n",
            "n= 17 fibR( 17 )= 1597 time 0.0010009999999738284 seconds process time\n",
            "n= 17 fib( 17 )= 1597 time 6.000000041694875e-06 seconds process time\n",
            "\n",
            "n= 18 fibR( 18 )= 2584 time 0.0016610000000127911 seconds process time\n",
            "n= 18 fib( 18 )= 2584 time 5.999999984851456e-06 seconds process time\n",
            "\n",
            "n= 19 fibR( 19 )= 4181 time 0.0017169999999850916 seconds process time\n",
            "n= 19 fib( 19 )= 4181 time 1.1999999969702912e-05 seconds process time\n",
            "\n",
            "n= 20 fibR( 20 )= 6765 time 0.0026720000000182154 seconds process time\n",
            "n= 20 fib( 20 )= 6765 time 1.2000000026546331e-05 seconds process time\n",
            "\n",
            "n= 21 fibR( 21 )= 10946 time 0.004335000000025957 seconds process time\n",
            "n= 21 fib( 21 )= 10946 time 1.7000000013922545e-05 seconds process time\n",
            "\n",
            "n= 22 fibR( 22 )= 17711 time 0.007114999999998872 seconds process time\n",
            "n= 22 fib( 22 )= 17711 time 1.5999999959603883e-05 seconds process time\n",
            "\n",
            "n= 23 fibR( 23 )= 28657 time 0.012971999999990658 seconds process time\n",
            "n= 23 fib( 23 )= 28657 time 6.999999982326699e-06 seconds process time\n",
            "\n",
            "n= 24 fibR( 24 )= 46368 time 0.01945299999999861 seconds process time\n",
            "n= 24 fib( 24 )= 46368 time 8.00000003664536e-06 seconds process time\n",
            "\n",
            "n= 25 fibR( 25 )= 75025 time 0.031615999999985434 seconds process time\n",
            "n= 25 fib( 25 )= 75025 time 8.00000003664536e-06 seconds process time\n",
            "\n",
            "n= 26 fibR( 26 )= 121393 time 0.04982799999999088 seconds process time\n",
            "n= 26 fib( 26 )= 121393 time 7.999999979801942e-06 seconds process time\n",
            "\n",
            "n= 27 fibR( 27 )= 196418 time 0.08578399999998965 seconds process time\n",
            "n= 27 fib( 27 )= 196418 time 8.999999977277184e-06 seconds process time\n",
            "\n",
            "n= 28 fibR( 28 )= 317811 time 0.13794300000000703 seconds process time\n",
            "n= 28 fib( 28 )= 317811 time 1.900000000887303e-05 seconds process time\n",
            "\n",
            "n= 29 fibR( 29 )= 514229 time 0.22919100000001436 seconds process time\n",
            "n= 29 fib( 29 )= 514229 time 6.999999982326699e-06 seconds process time\n",
            "\n",
            "n= 30 fibR( 30 )= 832040 time 0.36851799999999457 seconds process time\n",
            "n= 30 fib( 30 )= 832040 time 9.000000034120603e-06 seconds process time\n",
            "\n",
            "n= 31 fibR( 31 )= 1346269 time 0.5832060000000183 seconds process time\n",
            "n= 31 fib( 31 )= 1346269 time 9.000000034120603e-06 seconds process time\n",
            "\n",
            "n= 32 fibR( 32 )= 2178309 time 0.864530000000002 seconds process time\n",
            "n= 32 fib( 32 )= 2178309 time 1.1000000029071089e-05 seconds process time\n",
            "\n",
            "n= 33 fibR( 33 )= 3524578 time 1.4081860000000006 seconds process time\n",
            "n= 33 fib( 33 )= 3524578 time 1.2000000026546331e-05 seconds process time\n",
            "\n",
            "n= 34 fibR( 34 )= 5702887 time 2.2688549999999736 seconds process time\n",
            "n= 34 fib( 34 )= 5702887 time 1.0000000031595846e-05 seconds process time\n",
            "\n",
            "n= 35 fibR( 35 )= 9227465 time 3.675098999999989 seconds process time\n",
            "n= 35 fib( 35 )= 9227465 time 9.999999974752427e-06 seconds process time\n",
            "\n",
            "n= 36 fibR( 36 )= 14930352 time 5.890899999999988 seconds process time\n",
            "n= 36 fib( 36 )= 14930352 time 1.0000000031595846e-05 seconds process time\n",
            "\n",
            "n= 37 fibR( 37 )= 24157817 time 9.579257999999982 seconds process time\n",
            "n= 37 fib( 37 )= 24157817 time 9.999999974752427e-06 seconds process time\n",
            "\n",
            "n= 38 fibR( 38 )= 39088169 time 15.455003000000033 seconds process time\n",
            "n= 38 fib( 38 )= 39088169 time 1.3000000024021574e-05 seconds process time\n",
            "\n",
            "n= 39 fibR( 39 )= 63245986 time 24.93163400000003 seconds process time\n",
            "n= 39 fib( 39 )= 63245986 time 1.1000000029071089e-05 seconds process time\n",
            "\n",
            "n= 40 fibR( 40 )= 102334155 time 40.384115000000065 seconds process time\n",
            "n= 40 fib( 40 )= 102334155 time 1.099999997222767e-05 seconds process time\n",
            "\n",
            "n= 41 fibR( 41 )= 165580141 time 65.76289200000008 seconds process time\n",
            "n= 41 fib( 41 )= 165580141 time 1.099999997222767e-05 seconds process time\n",
            "\n",
            "n= 42 fibR( 42 )= 267914296 time 106.37018 seconds process time\n",
            "n= 42 fib( 42 )= 267914296 time 1.3999999964653398e-05 seconds process time\n",
            "\n",
            "n= 43 fibR( 43 )= 433494437 time 171.06125300000008 seconds process time\n",
            "n= 43 fib( 43 )= 433494437 time 1.8000000068241206e-05 seconds process time\n",
            "\n",
            "n= 44 fibR( 44 )= 701408733 time 278.1118010000001 seconds process time\n",
            "n= 44 fib( 44 )= 701408733 time 1.1000000085914508e-05 seconds process time\n",
            "\n",
            "n= 45 fibR( 45 )= 1134903170 time 449.68314699999996 seconds process time\n",
            "n= 45 fib( 45 )= 1134903170 time 1.4000000192027073e-05 seconds process time\n",
            "\n",
            "n= 46 fibR( 46 )= 1836311903 time 726.660482 seconds process time\n",
            "n= 46 fib( 46 )= 1836311903 time 1.2999999853491317e-05 seconds process time\n",
            "\n",
            "n= 47 fibR( 47 )= 2971215073 time 1174.779364 seconds process time\n",
            "n= 47 fib( 47 )= 2971215073 time 1.5000000075815478e-05 seconds process time\n",
            "\n",
            "n= 48 fibR( 48 )= 4807526976 time 1899.6457609999998 seconds process time\n",
            "n= 48 fib( 48 )= 4807526976 time 1.2999999853491317e-05 seconds process time\n",
            "\n",
            "n= 49 fibR( 49 )= 7778742049 time 3073.4702689999995 seconds process time\n",
            "n= 49 fib( 49 )= 7778742049 time 1.300000076298602e-05 seconds process time\n",
            "\n",
            "n= 50 fibR( 50 )= 12586269025 time 5001.005067 seconds process time\n",
            "n= 50 fib( 50 )= 12586269025 time 7.800000093993731e-05 seconds process time\n",
            "\n"
          ],
          "name": "stdout"
        },
        {
          "output_type": "display_data",
          "data": {
            "image/png": "[encoded data removed]",
            "text/plain": [
              "<Figure size 432x288 with 1 Axes>"
            ]
          },
          "metadata": {
            "tags": [],
            "needs_background": "light"
          }
        }
      ]
    }
  ]
}