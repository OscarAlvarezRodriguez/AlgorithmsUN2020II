{
  "nbformat": 4,
  "nbformat_minor": 0,
  "metadata": {
    "colab": {
      "name": "Stable married.ipynb",
      "provenance": [],
      "collapsed_sections": []
    },
    "kernelspec": {
      "name": "python3",
      "display_name": "Python 3"
    }
  },
  "cells": [
    {
      "cell_type": "code",
      "metadata": {
        "id": "5LyEeSikxAnl"
      },
      "source": [
        "#TOMADO DE LA PAGINA https://towardsdatascience.com/gale-shapley-algorithm-simply-explained-caa344e643c2\n",
        "\n",
        "# ANOTACION IMPORTANTE DEL DESARROLLO\n",
        "# inicialmente el vector de preferencias era netamente aleatorio que podia suceder casos como [1,1,2]\n",
        "# en preferencias, para los casos n pequeños funcionó normal aumentando exponencialmente los casos -1 (no solucionables)\n",
        "# ajusté el programa para que asegurara preferecias diferentes [3,2,1], [1,3,2] y así :v \n",
        "\n",
        "import pandas as pd\n",
        "import numpy as np\n",
        "import random as rnd\n",
        "from collections import Counter\n",
        "from copy import copy\n",
        "import matplotlib.pyplot as plt"
      ],
      "execution_count": 1,
      "outputs": []
    },
    {
      "cell_type": "code",
      "metadata": {
        "id": "_NwnHWOlyfDM"
      },
      "source": [
        "def Married():\n",
        "  # dict to control which women each man can make proposals\n",
        "  women_available = {man:women_list for man in man_list}\n",
        "  # waiting list of men that were able to create pair on each iteration\n",
        "  waiting_list = []\n",
        "  # dict to store created pairs\n",
        "  proposals = {}\n",
        "  # variable to count number of iterations\n",
        "  count = 0\n",
        "\n",
        "  # while not all men have pairs\n",
        "  while len(waiting_list)<len(man_list):\n",
        "      # man makes proposals\n",
        "      for man in man_list:\n",
        "          if man not in waiting_list:\n",
        "              # each man make proposal to the top women from it's list\n",
        "              women = women_available[man]\n",
        "              best_choice = man_df.loc[man][man_df.loc[man].index.isin(women)].idxmin()\n",
        "              proposals[(man, best_choice)]=(man_df.loc[man][best_choice],\n",
        "                                                  women_df.loc[man][best_choice])\n",
        "      # if women have more than one proposals \n",
        "      # she will choose the best option\n",
        "      overlays = Counter([key[1] for key in proposals.keys()])\n",
        "      # cycle to choose the best options\n",
        "      for women in overlays.keys():\n",
        "          if overlays[women]>1:\n",
        "              # pairs to drop from proposals\n",
        "              pairs_to_drop = sorted({pair: proposals[pair] for pair in proposals.keys() \n",
        "                      if women in pair}.items(), \n",
        "                    key=lambda x: x[1][1]\n",
        "                    )[1:]\n",
        "              # if man was rejected by woman\n",
        "              # there is no pint for him to make proposal \n",
        "              # second time to the same woman\n",
        "              for p_to_drop in pairs_to_drop:\n",
        "                  del proposals[p_to_drop[0]]\n",
        "                  _women = copy(women_available[p_to_drop[0][0]])\n",
        "                  _women.remove(p_to_drop[0][1])\n",
        "                  women_available[p_to_drop[0][0]] = _women\n",
        "      # man who successfully created pairs must be added to the waiting list \n",
        "      waiting_list = [man[0] for man in proposals.keys()]\n",
        "      # update counter\n",
        "      count+=1\n",
        "\n",
        "  return proposals, count"
      ],
      "execution_count": 2,
      "outputs": []
    },
    {
      "cell_type": "code",
      "metadata": {
        "id": "d3NMVyXVDarb"
      },
      "source": [
        "#man_list = ['a', 'b', 'c', 'd']\n",
        "#women_list = ['A', 'B', 'C', 'D']\n",
        "\n",
        "#women_df = pd.DataFrame({'A': [3,4,2,1], 'B': [3,1,4,2], 'C':[2,3,4,1], 'D':[3,2,1,4]})\n",
        "#women_df.index = man_list\n",
        "\n",
        "#man_df = pd.DataFrame({'A': [1,1,2,4], 'B': [2,4,1,2], 'C':[3,3,3,3], 'D':[4,2,4,1]})\n",
        "#man_df.index = man_list\n",
        "\n",
        "#print(\"Women table\")\n",
        "#print(women_df)\n",
        "#print()\n",
        "#print(\"Man table\")\n",
        "#print(man_df)"
      ],
      "execution_count": 3,
      "outputs": []
    },
    {
      "cell_type": "code",
      "metadata": {
        "id": "tLL-gDop2M5m"
      },
      "source": [
        "def CrearTablas(n):\n",
        "  man_list = [];\n",
        "  women_list = [];\n",
        "  women_df = pd.DataFrame();\n",
        "  man_df = pd.DataFrame();\n",
        "\n",
        "  number_list = []\n",
        "  for i in range(n):\n",
        "    number_list.append(i)\n",
        "  for i in range(n):\n",
        "    man_list.append(str(i))\n",
        "    women_list.append(str(i))\n",
        "    \n",
        "    rnd.shuffle(number_list)\n",
        "    man_df[str(i)] = number_list\n",
        "    \n",
        "    rnd.shuffle(number_list)\n",
        "    women_df[str(i)] = number_list;\n",
        "    \n",
        "  women_df.index = man_list\n",
        "  man_df.index = man_list\n",
        "  return man_list, women_list,man_df, women_df"
      ],
      "execution_count": 4,
      "outputs": []
    },
    {
      "cell_type": "code",
      "metadata": {
        "id": "qvYU4ocRPImI"
      },
      "source": [
        "def pintarHistograma(conteo, errores,n):\n",
        "\n",
        "  print(\"Hubo \", errores, \"casos que no tenian solución\")\n",
        "  print()\n",
        "  for i in range(errores):\n",
        "    conteo.append(-1)\n",
        "  \n",
        "  if(max(conteo) == -1):\n",
        "      bins = 1\n",
        "  else:\n",
        "      bins=(max(conteo)+1)\n",
        "  \n",
        "  plt.title(\"Frecuencia\")\n",
        "  plt.hist(conteo, bins, alpha=1, edgecolor = 'black',  linewidth=1)\n",
        "  plt.grid(True)\n",
        "  plt.show()"
      ],
      "execution_count": 5,
      "outputs": []
    },
    {
      "cell_type": "code",
      "metadata": {
        "colab": {
          "base_uri": "https://localhost:8080/",
          "height": 570
        },
        "id": "BOiUly5__OxO",
        "outputId": "d432fbde-bbe1-4fb8-fd79-13a44d246022"
      },
      "source": [
        "n = 4;\n",
        "conteo = [];\n",
        "errores = 0;\n",
        "mejorCaso = [0,0,0,0];\n",
        "for i in range(100):\n",
        "  try:\n",
        "\n",
        "    x = CrearTablas(n)\n",
        "    man_list = x[0]\n",
        "    women_list = x[1]\n",
        "    man_df = x[2]\n",
        "    women_df = x[3]\n",
        "    \n",
        "    x = Married();\n",
        "    conteo.append(x[1]);\n",
        "\n",
        "    if(x[1] <= min(conteo)):\n",
        "      mejorCaso[0] = x[0];\n",
        "      mejorCaso[1] = x[1];\n",
        "      mejorCaso[2] = man_df;\n",
        "      mejorCaso[3] = women_df;\n",
        "\n",
        "  except:\n",
        "    errores += 1\n",
        "\n",
        "print(\"El mejor caso fue\", mejorCaso[1], \"con la combinacion \", mejorCaso[0])\n",
        "print()\n",
        "print(\"La table fue de Chicos era\")\n",
        "print(mejorCaso[2])\n",
        "print()\n",
        "print(\"La table fue de Chicas era\")\n",
        "print(mejorCaso[3])\n",
        "\n",
        "pintarHistograma(conteo, errores,n)"
      ],
      "execution_count": 6,
      "outputs": [
        {
          "output_type": "stream",
          "text": [
            "El mejor caso fue 1 con la combinacion  {('0', '3'): (0, 1), ('1', '1'): (0, 3), ('2', '0'): (0, 2), ('3', '2'): (1, 0)}\n",
            "\n",
            "La table fue de Chicos era\n",
            "   0  1  2  3\n",
            "0  1  1  3  0\n",
            "1  2  0  0  2\n",
            "2  0  3  2  3\n",
            "3  3  2  1  1\n",
            "\n",
            "La table fue de Chicas era\n",
            "   0  1  2  3\n",
            "0  1  1  2  1\n",
            "1  0  3  1  3\n",
            "2  2  2  3  2\n",
            "3  3  0  0  0\n",
            "Hubo  36 casos que no tenian solución\n",
            "\n"
          ],
          "name": "stdout"
        },
        {
          "output_type": "display_data",
          "data": {
            "image/png": "[encoded data removed]",
            "text/plain": [
              "<Figure size 432x288 with 1 Axes>"
            ]
          },
          "metadata": {
            "tags": [],
            "needs_background": "light"
          }
        }
      ]
    },
    {
      "cell_type": "code",
      "metadata": {
        "colab": {
          "base_uri": "https://localhost:8080/",
          "height": 726
        },
        "id": "gt13Oki-l2uO",
        "outputId": "04d92fcb-df05-491d-a9f3-1e82aaa3febd"
      },
      "source": [
        "n = 8;\n",
        "conteo = [];\n",
        "errores = 0;\n",
        "mejorCaso = [0,0,0,0];\n",
        "for i in range(100):\n",
        "  try:\n",
        "    x = CrearTablas(n)\n",
        "    man_list = x[0]\n",
        "    women_list = x[1]\n",
        "    man_df = x[2]\n",
        "    women_df = x[3]\n",
        "    \n",
        "    x = Married();\n",
        "    conteo.append(x[1]);\n",
        "\n",
        "    if(x[1] <= min(conteo)):\n",
        "      mejorCaso[0] = x[0];\n",
        "      mejorCaso[1] = x[1];\n",
        "      mejorCaso[2] = man_df;\n",
        "      mejorCaso[3] = women_df;\n",
        "\n",
        "  except:\n",
        "    errores += 1\n",
        "\n",
        "print(\"El mejor caso fue\", mejorCaso[1], \"con la combinacion \", mejorCaso[0])\n",
        "print()\n",
        "print(\"La table fue de Chicos era\")\n",
        "print(mejorCaso[2])\n",
        "print()\n",
        "print(\"La table fue de Chicas era\")\n",
        "print(mejorCaso[3])\n",
        "\n",
        "pintarHistograma(conteo, errores,n)"
      ],
      "execution_count": 14,
      "outputs": [
        {
          "output_type": "stream",
          "text": [
            "El mejor caso fue 2 con la combinacion  {('0', '2'): (0, 2), ('1', '5'): (2, 2), ('2', '4'): (0, 5), ('4', '1'): (0, 1), ('5', '6'): (0, 2), ('6', '3'): (1, 2), ('7', '0'): (0, 3), ('3', '7'): (0, 4)}\n",
            "\n",
            "La table fue de Chicos era\n",
            "   0  1  2  3  4  5  6  7\n",
            "0  2  1  0  4  6  0  3  1\n",
            "1  3  7  4  7  4  2  5  5\n",
            "2  6  2  3  5  0  6  1  4\n",
            "3  1  6  6  0  2  1  6  0\n",
            "4  5  0  1  6  7  7  7  6\n",
            "5  4  5  5  2  3  5  0  7\n",
            "6  7  4  2  1  5  3  2  2\n",
            "7  0  3  7  3  1  4  4  3\n",
            "\n",
            "La table fue de Chicas era\n",
            "   0  1  2  3  4  5  6  7\n",
            "0  5  7  2  1  6  3  5  0\n",
            "1  7  5  1  0  3  2  7  5\n",
            "2  2  4  6  5  5  4  3  7\n",
            "3  6  2  3  7  2  6  0  4\n",
            "4  4  1  0  6  4  5  1  1\n",
            "5  0  3  7  3  1  7  2  2\n",
            "6  1  6  4  2  7  0  6  3\n",
            "7  3  0  5  4  0  1  4  6\n",
            "Hubo  84 casos que no tenian solución\n",
            "\n"
          ],
          "name": "stdout"
        },
        {
          "output_type": "display_data",
          "data": {
            "image/png": "[encoded data removed]",
            "text/plain": [
              "<Figure size 432x288 with 1 Axes>"
            ]
          },
          "metadata": {
            "tags": [],
            "needs_background": "light"
          }
        }
      ]
    }
  ]
}