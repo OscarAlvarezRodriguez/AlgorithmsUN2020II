{
  "nbformat": 4,
  "nbformat_minor": 0,
  "metadata": {
    "colab": {
      "name": "Subset Sum Problem.ipynb",
      "provenance": []
    },
    "kernelspec": {
      "name": "python3",
      "display_name": "Python 3"
    }
  },
  "cells": [
    {
      "cell_type": "code",
      "metadata": {
        "id": "m9Mk42xNv78r"
      },
      "source": [
        "import signal\n",
        "\n",
        "\n",
        "class TimeoutError(Exception):\n",
        "    def __init__(self, value=\"Timed Out\"):\n",
        "        self.value = value\n",
        "\n",
        "    def __str__(self):\n",
        "        return repr(self.value)\n",
        "\n",
        "\n",
        "def timeout(seconds_before_timeout):\n",
        "    def decorate(f):\n",
        "        def handler(signum, frame):\n",
        "            raise TimeoutError()\n",
        "\n",
        "        def new_f(*args, **kwargs):\n",
        "            old = signal.signal(signal.SIGALRM, handler)\n",
        "            signal.alarm(seconds_before_timeout)\n",
        "            try:\n",
        "                result = f(*args, **kwargs)\n",
        "            finally:\n",
        "                signal.signal(signal.SIGALRM, old)\n",
        "            signal.alarm(0)\n",
        "            return result\n",
        "\n",
        "        new_f.func_name = f.func_name\n",
        "        return new_f\n",
        "\n",
        "    return decorate"
      ],
      "execution_count": 1,
      "outputs": []
    },
    {
      "cell_type": "code",
      "metadata": {
        "id": "yBSrAQN1vT1K"
      },
      "source": [
        "import itertools\n",
        "\n",
        "\n",
        "timeout(5 * 60)\n",
        "def bruteforce(x_list, target):\n",
        "    possiblities = []\n",
        "    for x in powerset(x_list):\n",
        "        possiblities.append((x, sum(x)))\n",
        "\n",
        "    x_list, actual_value = closest(possiblities, target)\n",
        "\n",
        "    return (actual_value, x_list)\n",
        "\n",
        "\n",
        "def powerset(iterable):\n",
        "    '''powerset([1,2,3]) --> () (1,) (2,) (3,) (1,2) (1,3) (2,3) (1,2,3)\n",
        "    http://docs.python.org/library/itertools.html#recipes\n",
        "    '''\n",
        "    s = list(iterable)\n",
        "    return itertools.chain.from_iterable(itertools.combinations(s, r) for r in range(len(s) + 1))\n",
        "\n",
        "\n",
        "def closest(possiblities, target):\n",
        "    '''Modified from http://stackoverflow.com/questions/445782/finding-closest-match-in-collection-of-numbers/445824#445824'''\n",
        "    return min((abs(target - total), (o_list, total))\n",
        "               for o_list, total in possiblities)[1]"
      ],
      "execution_count": 2,
      "outputs": []
    },
    {
      "cell_type": "code",
      "metadata": {
        "colab": {
          "base_uri": "https://localhost:8080/"
        },
        "id": "w26WrvEDvgV7",
        "outputId": "db7c3de9-1432-45f4-e3e9-9392f87c9222"
      },
      "source": [
        "from time import time\n",
        "\n",
        "x_list = [1150, 495, 995, 995, 995, 995, 100, 750, 3305, 75, 510, 3265, 2145, 1935, 140, 140, 15, 1330, 2800, 1250, 350, 850, 110]\n",
        "target = 8270\n",
        "\n",
        "time0 = time()\n",
        "bf = bruteforce(x_list, target)\n",
        "time1 = time()\n",
        "bf"
      ],
      "execution_count": 3,
      "outputs": [
        {
          "output_type": "execute_result",
          "data": {
            "text/plain": [
              "(8270, (75, 3265, 2145, 1935, 850))"
            ]
          },
          "metadata": {
            "tags": []
          },
          "execution_count": 3
        }
      ]
    },
    {
      "cell_type": "code",
      "metadata": {
        "id": "1hnh_OHBDF7t",
        "colab": {
          "base_uri": "https://localhost:8080/"
        },
        "outputId": "7705a028-2443-4b96-9594-5b3267d607d7"
      },
      "source": [
        "from time import time\n",
        "\n",
        "x_list = []\n",
        "target = 1000\n",
        "\n",
        "for i in range(1,1001):\n",
        "  x_list.append(i)\n",
        "  print(\"Se ha agregado: n = \" + str(i))\n",
        "  bf = bruteforce(x_list, target)\n",
        "  print(bf)"
      ],
      "execution_count": null,
      "outputs": [
        {
          "output_type": "stream",
          "text": [
            "Se ha agregado: n = 1\n",
            "(1, (1,))\n",
            "Se ha agregado: n = 2\n",
            "(3, (1, 2))\n",
            "Se ha agregado: n = 3\n",
            "(6, (1, 2, 3))\n",
            "Se ha agregado: n = 4\n",
            "(10, (1, 2, 3, 4))\n",
            "Se ha agregado: n = 5\n",
            "(15, (1, 2, 3, 4, 5))\n",
            "Se ha agregado: n = 6\n",
            "(21, (1, 2, 3, 4, 5, 6))\n",
            "Se ha agregado: n = 7\n",
            "(28, (1, 2, 3, 4, 5, 6, 7))\n",
            "Se ha agregado: n = 8\n",
            "(36, (1, 2, 3, 4, 5, 6, 7, 8))\n",
            "Se ha agregado: n = 9\n",
            "(45, (1, 2, 3, 4, 5, 6, 7, 8, 9))\n",
            "Se ha agregado: n = 10\n",
            "(55, (1, 2, 3, 4, 5, 6, 7, 8, 9, 10))\n",
            "Se ha agregado: n = 11\n",
            "(66, (1, 2, 3, 4, 5, 6, 7, 8, 9, 10, 11))\n",
            "Se ha agregado: n = 12\n",
            "(78, (1, 2, 3, 4, 5, 6, 7, 8, 9, 10, 11, 12))\n",
            "Se ha agregado: n = 13\n",
            "(91, (1, 2, 3, 4, 5, 6, 7, 8, 9, 10, 11, 12, 13))\n",
            "Se ha agregado: n = 14\n",
            "(105, (1, 2, 3, 4, 5, 6, 7, 8, 9, 10, 11, 12, 13, 14))\n",
            "Se ha agregado: n = 15\n",
            "(120, (1, 2, 3, 4, 5, 6, 7, 8, 9, 10, 11, 12, 13, 14, 15))\n",
            "Se ha agregado: n = 16\n",
            "(136, (1, 2, 3, 4, 5, 6, 7, 8, 9, 10, 11, 12, 13, 14, 15, 16))\n",
            "Se ha agregado: n = 17\n",
            "(153, (1, 2, 3, 4, 5, 6, 7, 8, 9, 10, 11, 12, 13, 14, 15, 16, 17))\n",
            "Se ha agregado: n = 18\n",
            "(171, (1, 2, 3, 4, 5, 6, 7, 8, 9, 10, 11, 12, 13, 14, 15, 16, 17, 18))\n",
            "Se ha agregado: n = 19\n",
            "(190, (1, 2, 3, 4, 5, 6, 7, 8, 9, 10, 11, 12, 13, 14, 15, 16, 17, 18, 19))\n",
            "Se ha agregado: n = 20\n",
            "(210, (1, 2, 3, 4, 5, 6, 7, 8, 9, 10, 11, 12, 13, 14, 15, 16, 17, 18, 19, 20))\n",
            "Se ha agregado: n = 21\n",
            "(231, (1, 2, 3, 4, 5, 6, 7, 8, 9, 10, 11, 12, 13, 14, 15, 16, 17, 18, 19, 20, 21))\n",
            "Se ha agregado: n = 22\n",
            "(253, (1, 2, 3, 4, 5, 6, 7, 8, 9, 10, 11, 12, 13, 14, 15, 16, 17, 18, 19, 20, 21, 22))\n",
            "Se ha agregado: n = 23\n",
            "(276, (1, 2, 3, 4, 5, 6, 7, 8, 9, 10, 11, 12, 13, 14, 15, 16, 17, 18, 19, 20, 21, 22, 23))\n",
            "Se ha agregado: n = 24\n",
            "(300, (1, 2, 3, 4, 5, 6, 7, 8, 9, 10, 11, 12, 13, 14, 15, 16, 17, 18, 19, 20, 21, 22, 23, 24))\n",
            "Se ha agregado: n = 25\n",
            "(325, (1, 2, 3, 4, 5, 6, 7, 8, 9, 10, 11, 12, 13, 14, 15, 16, 17, 18, 19, 20, 21, 22, 23, 24, 25))\n",
            "Se ha agregado: n = 26\n"
          ],
          "name": "stdout"
        }
      ]
    }
  ]
}