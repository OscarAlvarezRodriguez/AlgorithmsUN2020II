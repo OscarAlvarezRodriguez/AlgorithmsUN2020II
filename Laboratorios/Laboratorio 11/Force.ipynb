{
  "nbformat": 4,
  "nbformat_minor": 0,
  "metadata": {
    "colab": {
      "name": "Force",
      "provenance": []
    },
    "kernelspec": {
      "name": "python3",
      "display_name": "Python 3"
    }
  },
  "cells": [
    {
      "cell_type": "code",
      "metadata": {
        "colab": {
          "base_uri": "https://localhost:8080/"
        },
        "id": "klY6gl1lY77q",
        "outputId": "d32f7903-28ec-40ed-aca8-6157094442e1"
      },
      "source": [
        "def force(x):\n",
        "  if (x < 1):\n",
        "    return\n",
        "  else:\n",
        "    for a in range(1,x+1):\n",
        "      for b in range(1,x+1):\n",
        "        condition1 = (a%b) == 0\n",
        "        condition2 = (a*b) > x\n",
        "        condition3 = (a/b) < x\n",
        "        if (condition1 and condition2 and condition3):\n",
        "          print(a,b)\n",
        "          return\n",
        "  print(-1)\n",
        "  return\n",
        "\n",
        "x = int(input())\n",
        "force(x)"
      ],
      "execution_count": 29,
      "outputs": [
        {
          "output_type": "stream",
          "text": [
            "10\n",
            "4 4\n"
          ],
          "name": "stdout"
        }
      ]
    },
    {
      "cell_type": "code",
      "metadata": {
        "id": "jZHTQyfSoPJ6",
        "outputId": "50a8d2a7-dce8-42cf-c4fc-b6453dbd06f4",
        "colab": {
          "base_uri": "https://localhost:8080/"
        }
      },
      "source": [
        "def force(x):\n",
        "  if (x < 1):\n",
        "    return\n",
        "  else:\n",
        "    for a in range(1,x+1):\n",
        "      b = 2;\n",
        "      while (b <= x):\n",
        "        if (a%b == 0):\n",
        "          condition2 = (a*b) > x\n",
        "          condition3 = (a/b) < x\n",
        "          if (condition2 and condition3):\n",
        "            print(a,b)\n",
        "            return\n",
        "        b += 1;\n",
        "  print(-1)\n",
        "  return\n",
        "\n",
        "x = int(input())\n",
        "force(x)"
      ],
      "execution_count": 34,
      "outputs": [
        {
          "output_type": "stream",
          "text": [
            "10\n",
            "4 4\n"
          ],
          "name": "stdout"
        }
      ]
    },
    {
      "cell_type": "code",
      "metadata": {
        "colab": {
          "base_uri": "https://localhost:8080/"
        },
        "id": "HYpoe0b9jqJK",
        "outputId": "48256706-2b7d-4595-d50e-19c1f6f4427a"
      },
      "source": [
        "def force(x):\n",
        "  if (x ==1):\n",
        "    print(-1)\n",
        "  elif (int(x/2) + 1) % 2 ==0:\n",
        "    print(int(x/2) + 1, 2)\n",
        "  else:\n",
        "    print(int(x/2) + 2, 2)\n",
        "\n",
        "x = int(input())\n",
        "force(x)"
      ],
      "execution_count": 35,
      "outputs": [
        {
          "output_type": "stream",
          "text": [
            "10\n",
            "6 2\n"
          ],
          "name": "stdout"
        }
      ]
    },
    {
      "cell_type": "code",
      "metadata": {
        "id": "CK3WdmLinDts",
        "outputId": "97ae55bc-b3fa-4944-c5fa-740e72ced7f8",
        "colab": {
          "base_uri": "https://localhost:8080/"
        }
      },
      "source": [
        "x = int(input())\n",
        "if (x != 1):\n",
        "  print(x,x)\n",
        "else:\n",
        "  print(-1)"
      ],
      "execution_count": 33,
      "outputs": [
        {
          "output_type": "stream",
          "text": [
            "10\n",
            "10 10\n"
          ],
          "name": "stdout"
        }
      ]
    }
  ]
}