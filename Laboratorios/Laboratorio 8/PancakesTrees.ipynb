{
  "nbformat": 4,
  "nbformat_minor": 0,
  "metadata": {
    "colab": {
      "name": "PancakesTrees.ipynb",
      "provenance": [],
      "collapsed_sections": []
    },
    "kernelspec": {
      "name": "python3",
      "display_name": "Python 3"
    }
  },
  "cells": [
    {
      "cell_type": "markdown",
      "metadata": {
        "id": "oF910wotM9TB"
      },
      "source": [
        "![pancakespilesPythonlists.png](http://ungrid.unal.edu.co/gjhernandezp/algorithms/pancakes/pancakespilesPythonlistsonespatula.png)"
      ]
    },
    {
      "cell_type": "code",
      "metadata": {
        "id": "mHysDrl0M976",
        "colab": {
          "base_uri": "https://localhost:8080/"
        },
        "outputId": "e3cf66f4-87a3-48b8-9e18-357c437d163b"
      },
      "source": [
        "import pydot\n",
        "from collections import defaultdict \n",
        "from IPython.display import Image, display\n",
        "import math\n",
        "from google.colab import drive\n",
        "drive.mount('/content/drive')"
      ],
      "execution_count": 2,
      "outputs": [
        {
          "output_type": "stream",
          "text": [
            "Mounted at /content/drive\n"
          ],
          "name": "stdout"
        }
      ]
    },
    {
      "cell_type": "code",
      "metadata": {
        "id": "M61IVLcZPfa5"
      },
      "source": [
        "def lstr(p):\n",
        "        return ''.join([str(elem)  for elem in p])"
      ],
      "execution_count": 2,
      "outputs": []
    },
    {
      "cell_type": "code",
      "metadata": {
        "id": "2_U-4FBHdYd4"
      },
      "source": [
        "def calcularNivel(xnivelDeArbol,xqueue):\n",
        "  xqueue = xqueue[0:len(xqueue)]\n",
        "  if(xnivelDeArbol[-1][-1] in xqueue):\n",
        "    return xnivelDeArbol\n",
        "  else:\n",
        "    xnivelDeArbol.append(xqueue)\n",
        "    return xnivelDeArbol\n",
        "\n",
        "def imprimirArbol(nivelDeArbol):\n",
        "  for i in range(len(nivelDeArbol)):\n",
        "    print(nivelDeArbol[i])\n",
        "\n",
        "def verificarCaso(arbol):\n",
        "  for i in range(len(arbol)):\n",
        "    if(sorted(arbol[0]) in arbol[i]):\n",
        "      return i-1;\n",
        "  return False\n",
        "\n",
        "# y = [[4, 2, 0, 3, 1], \n",
        "#      [[4, 2, 0, 3, 1]], \n",
        "#      [[2, 4, 0, 3, 1], [0, 2, 4, 3, 1], [3, 0, 2, 4, 1], [1, 3, 0, 2, 4]], \n",
        "#      [[0, 4, 2, 3, 1], [3, 0, 4, 2, 1], [1, 3, 0, 4, 2], [2, 0, 4, 3, 1], [3, 4, 2, 0, 1], [1, 3, 4, 2, 0], [0, 3, 2, 4, 1], [2, 0, 3, 4, 1], [1, 4, 2, 0, 3], [3, 1, 0, 2, 4], [0, 3, 1, 2, 4], [2, 0, 3, 1, 4]], \n",
        "#      [[4, 0, 2, 3, 1], [3, 2, 4, 0, 1], [1, 3, 2, 4, 0], [0, 3, 4, 2, 1], [4, 0, 3, 2, 1], [1, 2, 4, 0, 3], [3, 1, 0, 4, 2], [0, 3, 1, 4, 2], [4, 0, 3, 1, 2], [3, 4, 0, 2, 1], [1, 3, 4, 0, 2], [4, 3, 2, 0, 1], [2, 4, 3, 0, 1], [1, 0, 2, 4, 3], [3, 1, 4, 2, 0], [4, 3, 1, 2, 0], [2, 4, 3, 1, 0], [2, 3, 0, 4, 1], [4, 2, 3, 0, 1], [1, 4, 2, 3, 0], [0, 2, 3, 4, 1], [4, 3, 0, 2, 1], [1, 4, 3, 0, 2], [4, 1, 2, 0, 3], [2, 4, 1, 0, 3], [0, 2, 4, 1, 3], [0, 1, 3, 2, 4], [2, 0, 1, 3, 4], [4, 2, 0, 1, 3], [3, 0, 1, 2, 4], [2, 1, 3, 0, 4], [4, 2, 1, 3, 0], [0, 2, 3, 1, 4], [3, 0, 2, 1, 4], [4, 1, 3, 0, 2]], \n",
        "#      [[3, 2, 0, 4, 1], [1, 3, 2, 0, 4], [2, 3, 4, 0, 1], [1, 0, 4, 2, 3], [3, 1, 2, 4, 0], [2, 3, 1, 4, 0], [4, 2, 3, 1, 0], [1, 2, 4, 3, 0], [0, 4, 3, 2, 1], [1, 2, 3, 0, 4], [2, 1, 4, 0, 3], [4, 2, 1, 0, 3], [0, 4, 2, 1, 3], [0, 1, 3, 4, 2], [4, 0, 1, 3, 2], [2, 4, 0, 1, 3], [3, 0, 1, 4, 2], [2, 4, 1, 3, 0], [0, 4, 3, 1, 2], [3, 0, 4, 1, 2], [1, 2, 0, 4, 3], [3, 1, 4, 0, 2], [4, 3, 1, 0, 2], [1, 0, 2, 3, 4], [1, 0, 3, 4, 2], [0, 1, 2, 4, 3], [2, 0, 1, 4, 3], [4, 1, 3, 2, 0], [3, 4, 1, 2, 0], [2, 1, 3, 4, 0], [0, 2, 1, 3, 4], [3, 4, 2, 1, 0], [1, 4, 0, 3, 2], [1, 0, 3, 2, 4], [4, 1, 2, 3, 0], [3, 2, 4, 1, 0], [1, 4, 3, 2, 0], [1, 2, 0, 3, 4], [3, 4, 1, 0, 2], [0, 3, 4, 1, 2], [0, 2, 1, 4, 3], [0, 1, 4, 2, 3], [2, 0, 4, 1, 3], [2, 3, 1, 0, 4], [2, 1, 0, 3, 4], [3, 1, 2, 0, 4], [3, 2, 0, 1, 4], [0, 3, 2, 1, 4]], \n",
        "#      [[1, 4, 0, 2, 3], [1, 0, 4, 3, 2], [4, 0, 1, 2, 3], [3, 2, 1, 4, 0], [0, 4, 1, 3, 2], [2, 1, 4, 3, 0], [1, 2, 3, 4, 0], [3, 2, 1, 0, 4], [0, 4, 1, 2, 3], [4, 0, 2, 1, 3], [4, 1, 0, 3, 2], [3, 4, 0, 1, 2], [2, 1, 0, 4, 3], [0, 1, 2, 3, 4], [4, 3, 0, 1, 2], [4, 1, 0, 2, 3], [4, 3, 2, 1, 0], [2, 3, 0, 1, 4], [2, 3, 4, 1, 0], [0, 1, 4, 3, 2]]]\n",
        "\n",
        "# print(sorted(y[0]) in y[0])\n",
        "# print(sorted(y[0]) in y[1])\n",
        "# print(sorted(y[0]) in y[2])\n",
        "# print(sorted(y[0]) in y[3])\n",
        "# print(sorted(y[0]) in y[4])\n",
        "# print(sorted(y[0]) in y[5])\n",
        "# print(sorted(y[0]) in y[6])\n",
        "# print(y[-1])\n",
        "# verificarCaso(y)"
      ],
      "execution_count": 3,
      "outputs": []
    },
    {
      "cell_type": "code",
      "metadata": {
        "id": "fhnD4TIop0Hk"
      },
      "source": [
        "def ModifiedBFSPreSols(s): \n",
        "\n",
        "        # Create dictionaries graph,visited and pydot graph G\n",
        "        graph = defaultdict()\n",
        "        visited = defaultdict()\n",
        "        G = pydot.Dot(graph_type=\"digraph\")\n",
        "        \n",
        "        # Create a queue for BFS \n",
        "        queue = [] \n",
        "  \n",
        "        # Mark the source node as visited and enqueue it \n",
        "        queue.append(s) \n",
        "        visited[lstr(s)] = True\n",
        "        nivelDeArbol = [s]\n",
        "        while queue: \n",
        "            nivelDeArbol = calcularNivel(nivelDeArbol,queue)\n",
        "            # Dequeue a vertex from queue \n",
        "            s = queue.pop(0) \n",
        "            graph[lstr(s)]=[]\n",
        "\n",
        "            flag = False\n",
        "            for i in range(len(s)-1):\n",
        "                d = s[i+1::-1] + s[i+2:]\n",
        "                if(d == sorted(d)):\n",
        "                     flag = True\n",
        "            if flag:\n",
        "              node = pydot.Node(lstr(s),style=\"filled\", fillcolor=\"yellow\")\n",
        "            else: \n",
        "              node = pydot.Node(lstr(s))\n",
        "\n",
        "            G.add_node(node)\n",
        "            \n",
        "            # Get all adjacent vertices of the \n",
        "            # dequeued vertex s. If a adjacent \n",
        "            # has not been visited, then mark it \n",
        "            # visited and enqueue it \n",
        "            if(s != sorted(s)):\n",
        "              for i in range(len(s)-1):\n",
        "                d = s[i+1::-1] + s[i+2:]  \n",
        "                if (d != s) and not(lstr(d) in visited.keys()):\n",
        "                 \n",
        "                  if(d != sorted(d)):\n",
        "                     node = pydot.Node(lstr(d))\n",
        "                  else:\n",
        "                    node = pydot.Node(lstr(d),style=\"filled\", fillcolor=\"green\") # first sorted green\n",
        "                  G.add_node(node)\n",
        "                  edge = pydot.Edge(lstr(s),lstr(d))\n",
        "                  G.add_edge(edge)\n",
        "                  graph[lstr(s)].append(lstr(d))\n",
        "                  queue.append(d) \n",
        "                  visited[lstr(d)] = True \n",
        "          # if():\n",
        "\n",
        "        # Dsplay the pydot graph G\n",
        "        im = Image(G.create_png())\n",
        "        #display(im)\n",
        "        #nivelDeArbol.pop(nivelDeArbol[0][0])\n",
        "        #print(nivelDeArbol)\n",
        "        #imprimirArbol(nivelDeArbol)\n",
        "\n",
        "        return verificarCaso(nivelDeArbol)\n",
        "\n",
        "# p = [3,1,2,4]\n",
        "# print(\"Grafico 2\")\n",
        "# ModifiedBFSPreSols(p)"
      ],
      "execution_count": 4,
      "outputs": []
    },
    {
      "cell_type": "code",
      "metadata": {
        "colab": {
          "base_uri": "https://localhost:8080/"
        },
        "id": "eXRq_Z07BHru",
        "outputId": "99f798a2-5da0-429c-b933-82537df0aee1"
      },
      "source": [
        "from itertools import *\n",
        "\n",
        "def show(iterable):\n",
        "    first = None\n",
        "    x = []\n",
        "    for i, item in enumerate(iterable, 1):\n",
        "        x.append(item)\n",
        "    return x\n",
        "\n",
        "print('All permutations:\\n')\n",
        "x=[1,2,3]\n",
        "show(permutations(x))"
      ],
      "execution_count": 5,
      "outputs": [
        {
          "output_type": "stream",
          "text": [
            "All permutations:\n",
            "\n"
          ],
          "name": "stdout"
        },
        {
          "output_type": "execute_result",
          "data": {
            "text/plain": [
              "[(1, 2, 3), (1, 3, 2), (2, 1, 3), (2, 3, 1), (3, 1, 2), (3, 2, 1)]"
            ]
          },
          "metadata": {
            "tags": []
          },
          "execution_count": 5
        }
      ]
    },
    {
      "cell_type": "code",
      "metadata": {
        "colab": {
          "base_uri": "https://localhost:8080/"
        },
        "id": "k01Ouv7rK7Q6",
        "outputId": "b04852c3-ee6e-4713-e7e8-495aa48cab46"
      },
      "source": [
        "def calcularPeorCaso(n):\n",
        "  peorCaso = 0;\n",
        "  x = []\n",
        "  for i in range(n):\n",
        "    x.append(i);\n",
        "  x = show(permutations(x))\n",
        "  for i in range(math.factorial(n)):\n",
        "    l = ModifiedBFSPreSols(list(x[i]))\n",
        "    file = open(\"miarchivo.txt\", \"a\")\n",
        "    file.write(\"Para \" +  str(n) +  \" Panqueques y permutación \" + str(x[i]) + \" el Pn es \" + str(l) + \"\\n\")\n",
        "    file.close()\n",
        "    # print(\"Para \", n ,\" Panqueques y permutación \", x[i], \" el Pn es \", l)\n",
        "    if(l>peorCaso):\n",
        "      peorCaso = l;\n",
        "\n",
        "  file = open(\"miarchivo.txt\", \"a\")\n",
        "  file.write(\"##### El peor caso para \" + str(n) + \" es \" + str(peorCaso) + \" #####\\n\")\n",
        "  file.close()\n",
        "\n",
        "  file = open(\"Tabla.txt\", \"a\")\n",
        "  file.write(str(n) + \" es \" + str(peorCaso) + \"\\n\")\n",
        "  file.close()\n",
        "\n",
        "  return peorCaso\n",
        "\n",
        "\n",
        "print(\"N\", \"\\tPeor caso\");\n",
        "i = 0;\n",
        "while (True):\n",
        "  if(i == 0):\n",
        "    print(i, \"\\t 0\")\n",
        "  else:\n",
        "    print(i,\"\\t\",calcularPeorCaso(i))\n",
        "  i+=1"
      ],
      "execution_count": null,
      "outputs": [
        {
          "output_type": "stream",
          "text": [
            "N \tPeor caso\n",
            "0 \t 0\n",
            "1 \t 0\n",
            "2 \t 1\n",
            "3 \t 3\n",
            "4 \t 4\n",
            "5 \t 5\n",
            "6 \t 7\n"
          ],
          "name": "stdout"
        }
      ]
    },
    {
      "cell_type": "markdown",
      "metadata": {
        "id": "bijkdlwN8eXh"
      },
      "source": [
        "## References\n",
        "\n",
        "- Breadth First Search or BFS for a Graph https://www.geeksforgeeks.org/breadth-first-search-or-bfs-for-a-graph/\n",
        "\n",
        "- Graph visualization using Python https://www.youtube.com/watch?v=SpDI6-FvtJY\n",
        "\n",
        "- nikhilkumarsingh\n",
        "/\n",
        "PyDot-Examples https://github.com/nikhilkumarsingh/PyDot-Examples/blob/master/Directory_Structure_Plotter.ipynb\n",
        "\n",
        "- pydot https://pypi.org/project/pydot/\n",
        "\n",
        "- Graphviz https://www.graphviz.org/\n",
        "\n",
        "- NetworkX https://networkx.github.io/\n",
        "\n",
        "\n"
      ]
    }
  ]
}