{
 "cells": [
  {
   "cell_type": "markdown",
   "metadata": {},
   "source": [
    "import random as rnd\n",
    "import matplotlib.pyplot as plt\n",
    "import numpy as np"
   ]
  },
  {
   "cell_type": "markdown",
   "metadata": {},
   "source": [
    "# Problema 5\n",
    "\n",
    "\n",
    "Estime la cantidad promedio de dinero (valor esperado) que Ben gana o pierde en un fin de semana si Ben va a Las Vegas todos los fines de semana (viernes, sábado y domingo), juega todos los fines de semana 10 horas, cada juego dura 3 minutos. Suponga que para cada juego obtiene dos posibilidades, en una tiene en su mano las cartas [7,7,5] y un resto de cartas calientes con 12 cartas para Alg Gr 1 9-11 y con 10 cartas para Alg Gr 2 11-1 en cuyo caso apuesta 1000, esto sucede con una probabilidad de 1/10; en el otro no tiene cartas en la mano una baraja completa barajada en cuyo caso apuesta $ 10, esto sucede con la probabilidad restante 9/10. Utilice 10000 simulaciones de Montecarlo para estimar la cantidad de dinero esperada que Ben gana o pierde en un fin de semana para una baraja española de 48 cartas con 3 decenas y para una baraja de póquer de 52 cartas con 4 decenas."
   ]
  },
  {
   "cell_type": "markdown",
   "metadata": {},
   "source": [
    "## La baraja más fria\n",
    "Será la baraja con la probabilidad más baja y será aquella donde para cada carta restante se cumple\n",
    "\n",
    "\"Para toda carta de i = 0 hasta n = 12 --> \"carta(i) > 2\"\"\n",
    "\n",
    "y no es posible ganar por que todas las cartas restantes son mayores a 2 es decir 19 + cualquier carta(i) será mayor a 21 es decir PROBABILIDAD DE GANAR = 0"
   ]
  },
  {
   "cell_type": "markdown",
   "metadata": {},
   "source": [
    "## La baraja más caliente\n",
    "Será la baraja que, a diferencia de la baraja fria, tendrá la mayor probabilidad de 1 y 2, pero las probabilidades de ganar son diferentes según el numero que saque por tanto se procede a los dos siguientes casos con la baraja armada de la siguiente forma:\n",
    "\n",
    "Baraja = [1,1,1,1,2,2,2,2,x,x,x,x]\n",
    "\n",
    "donde los 1 y 2 representan las cartas del mismo valor y \"x\" cualquier otra carta (que anteriormente explicado se concluye que se pierde directamente)\n"
   ]
  },
  {
   "cell_type": "markdown",
   "metadata": {},
   "source": [
    "## Posibilidades en el juego\n",
    "Segun el ejercicio se nos indica, existen dos posibles situaciones en el juego: la primera es, tener un conjunto de cartas en mano y una baraja caliente, a esta se les asigna una probabilidad de 1/10; la segunda es no tener avance en el juego sino contar con una baraja española o de pocker.\n",
    "\n",
    "Dado lo anterior para que las posibilidades de encontrarse en alguna de las dos decisiones esten acorde a lo indicado en el problema, tomaremos un valor aleatorio de una distribución uniforme de 0 a 1. El valor(val_aleatorio) que obtengamos lo ubicaremos en una posibilidad de la siguiente manera: \n",
    "\n",
    "val_aleatorio <= 0.1, entonces el juego actual estara descrito por la primera situación. En caso contrario, lo estara por la segunda.\n",
    "\n",
    "Las ganancias y perdidas se distribuyen de la siguiente manera: en la primera posibilidad son 2000 pesos y 1000 pesos respectivamente; en la segunda situación 20 pesos y 10 pesos respectivamente."
   ]
  },
  {
   "cell_type": "code",
   "execution_count": 51,
   "metadata": {},
   "outputs": [],
   "source": [
    "import matplotlib.pyplot as plt\n",
    "import random as rnd"
   ]
  },
  {
   "cell_type": "code",
   "execution_count": 52,
   "metadata": {},
   "outputs": [],
   "source": [
    "n = 10000\n",
    "apuesta1 = 1000\n",
    "apuesta2 = 10\n",
    "juegos = 600\n",
    "\n",
    "#primero creamos las barajas calientes y frias de manera arbitraria siguiendo las normas de la explicación, que seran usadas en la primera posibilidad\n",
    "caliente = [1,1,1,1,2,2,2,2,3,3,3,3]\n",
    "\n",
    "\n",
    "\n",
    "\n",
    "#Tambien creamos los mazos de cartas para la segunda posibilidad\n",
    "baraja48 = [1,2,3,4,5,6,7,8,9,10,11,12,\n",
    "            1,2,3,4,5,6,7,8,9,10,11,12,\n",
    "            1,2,3,4,5,6,7,8,9,10,11,12,\n",
    "            1,2,3,4,5,6,7,8,9,10,11,12]\n",
    "\n",
    "baraja52 = [1,2,3,4,5,6,7,8,9,10,11,12,13,\n",
    "            1,2,3,4,5,6,7,8,9,10,11,12,13,\n",
    "            1,2,3,4,5,6,7,8,9,10,11,12,13,\n",
    "            1,2,3,4,5,6,7,8,9,10,11,12,13]\n"
   ]
  },
  {
   "cell_type": "code",
   "execution_count": 53,
   "metadata": {},
   "outputs": [],
   "source": [
    "\n",
    "#se debe remplazar las cartas 11, 12 y 13 por 10 dejanlo la Baraja48 con 12 - 10's y Baraja52 con 16 - 10's\n",
    "def remplazar10(x):\n",
    "    \n",
    "    while(x.count(11)>0):\n",
    "        x.remove(11)\n",
    "        x.append(10)\n",
    "    \n",
    "    while(x.count(12)>0):\n",
    "        x.remove(12)\n",
    "        x.append(10)\n",
    "        \n",
    "    while(x.count(13)>0):\n",
    "        x.remove(13)\n",
    "        x.append(10)\n",
    "        \n",
    "    return x"
   ]
  },
  {
   "cell_type": "code",
   "execution_count": 54,
   "metadata": {},
   "outputs": [],
   "source": [
    "def posibilidad():\n",
    "    val_aleatorio = rnd.uniform(0,1)\n",
    "    if val_aleatorio <= 0.1:\n",
    "        return 1\n",
    "    else :\n",
    "        return 2\n"
   ]
  },
  {
   "cell_type": "code",
   "execution_count": 55,
   "metadata": {},
   "outputs": [],
   "source": [
    "#escoger baraja\n",
    "def baraja(x):\n",
    "    if(x == 1):\n",
    "        return baraja48.copy()\n",
    "    elif(x == 2):\n",
    "        return baraja52.copy()"
   ]
  },
  {
   "cell_type": "code",
   "execution_count": 56,
   "metadata": {},
   "outputs": [],
   "source": [
    "#promedio valores\n",
    "def prom(x, n):\n",
    "    return x/n"
   ]
  },
  {
   "cell_type": "code",
   "execution_count": 57,
   "metadata": {},
   "outputs": [
    {
     "name": "stdout",
     "output_type": "stream",
     "text": [
      "El numero total de juegos realizados en un fin de semana son:  600\n",
      "El numero total de juegos realizados en las 10000 iteraciones son :  6000000\n",
      "El numero de partidas ganadas fueron:  1060273\n",
      "El numero de partidas perdidas fueron:  4939727\n",
      "Ganancias promedio en un fin de semana 13199.613\n"
     ]
    }
   ],
   "source": [
    "#Ganancia obtenida teniendo dentro de las posibilidades el usar la baraja de 48 cartas\n",
    "gananciasTotales = 0\n",
    "partidasGanadas = 0\n",
    "partidasPerdidas = 0\n",
    "perdidasTotales = 0\n",
    "for i in range (10000): #10000 iteraciones\n",
    "    gananciasFS = 0;\n",
    "    perdidasFS = 0\n",
    "    for j in range (600): #600 juegos \n",
    "        \n",
    "        situacion = posibilidad() \n",
    "        puntaje = 0\n",
    "        if situacion == 1: \n",
    "            barjCaliente = caliente.copy();\n",
    "            puntaje = 19\n",
    "            while(puntaje < 21):\n",
    "                carta = rnd.randint(1,len(barjCaliente)) - 1\n",
    "                puntaje += barjCaliente[carta]\n",
    "                barjCaliente.pop(carta)\n",
    "                \n",
    "            if(puntaje == 21):\n",
    "                gananciasFS += 2*apuesta1\n",
    "                partidasGanadas += 1\n",
    "            else :\n",
    "                perdidasFS += apuesta1\n",
    "                partidasPerdidas += 1\n",
    "            \n",
    "        else :\n",
    "            barj = baraja(1)\n",
    "            remplazar10(barj)\n",
    "            while(puntaje < 21):\n",
    "                carta = rnd.randint(1,len(barj)) - 1\n",
    "                puntaje += barj[carta]\n",
    "                barj.pop(carta)\n",
    "            \n",
    "            if (puntaje == 21):\n",
    "                gananciasFS += 2*apuesta2\n",
    "                partidasGanadas += 1\n",
    "            else :\n",
    "                perdidasFS += apuesta2\n",
    "                partidasPerdidas += 1\n",
    "                \n",
    "    \n",
    "    gananciasTotales += gananciasFS\n",
    "    perdidasTotales += perdidasFS\n",
    "\n",
    "print (\"El numero total de juegos realizados en un fin de semana son: \", juegos)\n",
    "print (\"El numero total de juegos realizados en las 10000 iteraciones son : \", juegos*n)\n",
    "print (\"El numero de partidas ganadas fueron: \", partidasGanadas)\n",
    "print (\"El numero de partidas perdidas fueron: \",partidasPerdidas)\n",
    "print (\"Ganancias promedio en un fin de semana\",prom(gananciasTotales-perdidasTotales, n))"
   ]
  },
  {
   "cell_type": "code",
   "execution_count": null,
   "metadata": {},
   "outputs": [],
   "source": [
    "#Ganancia obtenida teniendo dentro de las posibilidades el usar la baraja de 52 cartas\n",
    "gananciasTotales = 0\n",
    "partidasGanadas = 0\n",
    "partidasPerdidas = 0\n",
    "perdidasTotales = 0\n",
    "for i in range (10000): #10000 iteraciones\n",
    "    gananciasFS = 0;\n",
    "    perdidasFS = 0\n",
    "    for j in range (600): #600 juegos \n",
    "        \n",
    "        situacion = posibilidad() \n",
    "        puntaje = 0\n",
    "        if situacion == 1: \n",
    "            barjCaliente = caliente.copy();\n",
    "            puntaje = 19\n",
    "            while(puntaje < 21):\n",
    "                carta = rnd.randint(1,len(barjCaliente)) - 1\n",
    "                puntaje += barjCaliente[carta]\n",
    "                barjCaliente.pop(carta)\n",
    "                \n",
    "            if(puntaje == 21):\n",
    "                gananciasFS += 2*apuesta1\n",
    "                partidasGanadas += 1\n",
    "            else :\n",
    "                perdidasFS += apuesta1\n",
    "                partidasPerdidas += 1\n",
    "            \n",
    "        else :\n",
    "            barj = baraja(2)\n",
    "            remplazar10(barj)\n",
    "            while(puntaje < 21):\n",
    "                carta = rnd.randint(1,len(barj)) - 1\n",
    "                puntaje += barj[carta]\n",
    "                barj.pop(carta)\n",
    "            \n",
    "            if (puntaje == 21):\n",
    "                gananciasFS += 2*apuesta2\n",
    "                partidasGanadas += 1\n",
    "            else :\n",
    "                perdidasFS += apuesta2\n",
    "                partidasPerdidas += 1\n",
    "                \n",
    "    \n",
    "    gananciasTotales += gananciasFS\n",
    "    perdidasTotales += perdidasFS\n",
    "\n",
    "print (\"El numero total de juegos realizados en un fin de semana son: \", juegos)\n",
    "print (\"El numero total de juegos realizados en las 10000 iteraciones son : \", juegos*n)\n",
    "print (\"El numero de partidas ganadas fueron: \", partidasGanadas)\n",
    "print (\"El numero de partidas perdidas fueron: \",partidasPerdidas)\n",
    "print (\"Ganancias promedio de un fin de semana\",prom(gananciasTotales-perdidasTotales, n))"
   ]
  }
 ],
 "metadata": {
  "kernelspec": {
   "display_name": "Python 3.5",
   "language": "python",
   "name": "py35"
  },
  "language_info": {
   "codemirror_mode": {
    "name": "ipython",
    "version": 3
   },
   "file_extension": ".py",
   "mimetype": "text/x-python",
   "name": "python",
   "nbconvert_exporter": "python",
   "pygments_lexer": "ipython3",
   "version": "3.5.10"
  }
 },
 "nbformat": 4,
 "nbformat_minor": 2
}
